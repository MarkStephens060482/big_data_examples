{
  "nbformat": 4,
  "nbformat_minor": 0,
  "metadata": {
    "colab": {
      "provenance": [],
      "gpuType": "T4",
      "mount_file_id": "12kNQ-SrNbZCy0N_Ld_OXDs9aLDI1kXi-",
      "authorship_tag": "ABX9TyOqlPvE8eAfCOX2lm32yvda",
      "include_colab_link": true
    },
    "kernelspec": {
      "name": "python3",
      "display_name": "Python 3"
    },
    "language_info": {
      "name": "python"
    },
    "accelerator": "GPU"
  },
  "cells": [
    {
      "cell_type": "markdown",
      "metadata": {
        "id": "view-in-github",
        "colab_type": "text"
      },
      "source": [
        "<a href=\"https://colab.research.google.com/github/MarkStephens060482/big_data_examples/blob/main/bootstrap_statistics_in_parallel.ipynb\" target=\"_parent\"><img src=\"https://colab.research.google.com/assets/colab-badge.svg\" alt=\"Open In Colab\"/></a>"
      ]
    },
    {
      "cell_type": "markdown",
      "source": [
        "# Bootstrapped statistics and confidence intervals\n",
        "### parallelism with PySpark\n",
        "\n",
        "1. The distributions used in generating a population of random numbers are:\n",
        "> A custom build approximate truncated skew normal distribution\n",
        "> Normal distribution\n",
        "> Skew Normal distribution\n",
        "2. A PySpark implementation of bootstrapped statistics for large samples.\n",
        "3. Bias-corrected and Accelerated (BCa) Confidence Intervals using SciPy.\n",
        "\n",
        "\n",
        "\n",
        "\n",
        "\n",
        "\n",
        "\n",
        "\n"
      ],
      "metadata": {
        "id": "ZZz0CXyC7fi9"
      }
    },
    {
      "cell_type": "code",
      "source": [
        "pip install pyspark"
      ],
      "metadata": {
        "colab": {
          "base_uri": "https://localhost:8080/"
        },
        "id": "zOHh28bhtTIy",
        "outputId": "0649756c-dfd3-437a-bd68-c489d42eda9a"
      },
      "execution_count": null,
      "outputs": [
        {
          "output_type": "stream",
          "name": "stdout",
          "text": [
            "Requirement already satisfied: pyspark in /usr/local/lib/python3.10/dist-packages (3.5.0)\n",
            "Requirement already satisfied: py4j==0.10.9.7 in /usr/local/lib/python3.10/dist-packages (from pyspark) (0.10.9.7)\n"
          ]
        }
      ]
    },
    {
      "cell_type": "code",
      "execution_count": null,
      "metadata": {
        "id": "zm8RCPgQdGs5"
      },
      "outputs": [],
      "source": [
        "\"\"\"\n",
        "Truncated Skew Normal Random Number Generator\n",
        "This uses a simpson method approximation for the integral of the pdf of the skew normal distribution\n",
        "to form the cumulative distribution function.\n",
        "Attributes:\n",
        "    m - mean of distribution.\n",
        "    s - standard deviation of distribution\n",
        "    l - skew of distribution\n",
        "    a - minimum value of truncated distribution\n",
        "    b - maximum value of truncated distriubtion\n",
        "    h - step size of numerical integration\n",
        "\"\"\"\n",
        "import numpy as np\n",
        "from scipy import special\n",
        "import math\n",
        "# function to calculate the standard normal pdf\n",
        "def znormpdf(x):\n",
        "    return ((2*np.pi)**(-0.5))*np.exp(-0.5*(x**2))\n",
        "\n",
        "# function to calculate the standard normal cdf\n",
        "def znormcdf(x):\n",
        "    return 0.5*(1 + special.erf(x/np.sqrt(2)))\n",
        "\n",
        "# function for the skew normal pdf, using the standard normal pdf and standard normal cdf\n",
        "def skewnormpdf(x,m,s,l):\n",
        "    return (2/s)*znormpdf((x-m)/s)*znormcdf(l*(x-m)/s)\n",
        "\n",
        "# function to calculate tyhe Simpson's rule approximation for the integral for cdf function, Integrating the skew normal pdf function.\n",
        "def simpson_sncdf(x,m,s,l,h):\n",
        "    # calculating the number of steps for step size of h to span from m-6*s to x\n",
        "    n = int((x-(m-6*s))/h)\n",
        "    array_prob = []\n",
        "    array_z = []\n",
        "    # find initial integration value and corresponding z_score\n",
        "    integration = skewnormpdf(m-6*s,m,s,l)\n",
        "    z_score = ((m-6*s)-m)/s\n",
        "    array_prob.append(integration*h/3)\n",
        "    array_z.append(z_score)\n",
        "    # find all integration values at an interval of h apart with corresponding z_score.\n",
        "    for i in range(1,n):\n",
        "        k = (m-6*s) + i*h\n",
        "        if i % 2 == 0:\n",
        "            integration = integration + 2 * skewnormpdf(k,m,s,l)\n",
        "        else:\n",
        "            integration = integration + 4 * skewnormpdf(k,m,s,l)\n",
        "        z_score = (k-m)/s\n",
        "        array_prob.append(integration*h/3)\n",
        "        array_z.append(z_score)\n",
        "    # Finding final integration value and corresponding z_score\n",
        "    integration = integration + skewnormpdf(x,m,s,l)\n",
        "    z_score = (x-m)/s\n",
        "    array_prob.append(integration*h/3)\n",
        "    array_z.append(z_score)\n",
        "    return array_z, array_prob\n",
        "\n",
        "# function to calculate the approximate value for inverse cdf of truncated skew normal function. Approximation is based on Simpson's rule for cdf\n",
        "def approx_inverse_sncdf(m,s,l,a,b,h):\n",
        "    max_prob = simpson_sncdf(b,m,s,l,h)[1][-1]\n",
        "    min_prob = simpson_sncdf(a,m,s,l,h)[1][-1]\n",
        "    val = min_prob + np.random.uniform()*(max_prob-min_prob)\n",
        "    arr = simpson_sncdf(1000,m,s,l,h)\n",
        "    index = np.abs(arr[1] - val).argmin()\n",
        "    return arr[0][index]\n",
        "\n",
        "# function to generate the random number based on mean plus standard deviation  times approximation for inverse cdf of truncated skew normal.\n",
        "def trucskewnormrand(m,s,l,a,b,h):\n",
        "    rand_num = m + s*approx_inverse_sncdf(m,s,l,a,b,h)\n",
        "    return rand_num\n"
      ]
    },
    {
      "cell_type": "markdown",
      "source": [
        " ## Pseudo-Random number from Skewed Truncated Normal distribution"
      ],
      "metadata": {
        "id": "WHUIxP2RgcjZ"
      }
    },
    {
      "cell_type": "code",
      "source": [
        "m = 30 # mean\n",
        "s = 7 # standard deviation\n",
        "l = 2 # skew\n",
        "a = 0 # minimum value\n",
        "b = 50 # maximum value\n",
        "h = 0.01 # step size for numerical approximation\n",
        "trucskewnormrand(m,s,l,a,b,h)"
      ],
      "metadata": {
        "colab": {
          "base_uri": "https://localhost:8080/"
        },
        "id": "c8bU-fVCfbfk",
        "outputId": "195917b0-37a9-44e5-d523-7dc461134b7c"
      },
      "execution_count": null,
      "outputs": [
        {
          "output_type": "execute_result",
          "data": {
            "text/plain": [
              "31.78"
            ]
          },
          "metadata": {},
          "execution_count": 3
        }
      ]
    },
    {
      "cell_type": "markdown",
      "source": [
        "### Bootstrapped Sample Statistics\n",
        "1. Generate a population of size $N$.\n",
        "2. Take a random sample of size $n$.\n",
        "3. Performed $B$ bootstrapped samples and calculate statistics of each sample.\n",
        "4. Observe distribution of bootstrapped statistics.\n",
        "\n",
        "Perform in parallel with PySpark"
      ],
      "metadata": {
        "id": "mXUNGJuU9GaS"
      }
    },
    {
      "cell_type": "code",
      "source": [
        "import numpy as np\n",
        "import random as rd\n",
        "from pyspark.sql.types import StructType, StructField, IntegerType, FloatType\n",
        "from scipy.stats import bootstrap\n",
        "from scipy.stats.mstats import trimmed_mean_ci, trimmed_mean\n",
        "import matplotlib.pyplot as plt\n",
        "import pandas as pd\n",
        "\n",
        "# Create SparkSession and SparkContext\n",
        "from pyspark.sql import SparkSession\n",
        "from operator import add\n",
        "from scipy.stats import skewnorm\n",
        "\n",
        "spark = SparkSession.builder\\\n",
        "                  .master('local[*]')\\\n",
        "                  .appName('bootstrap')\\\n",
        "                  .getOrCreate()\n",
        "sc = spark.sparkContext\n",
        "\n",
        "# Random number generation functions\n",
        "#Custom truncated skew normal distribution\n",
        "def population_generation(B,N,m,s,l,a,b,h):\n",
        "    return sc.parallelize(range(B)).map(lambda _: [trucskewnormrand(m,s,l,a,b,h) for _ in range(N)])\n",
        "#Normal distribution\n",
        "def population_generation1(B,N,m,s):\n",
        "    return sc.parallelize(range(B)).map(lambda _: list(np.random.normal(m, s, N)))\n",
        "#skew Normal distribution\n",
        "def population_generation2(B,N,m,s,l):\n",
        "    return sc.parallelize(range(B)).map(lambda _: list(skewnorm.rvs(l, loc=m, scale=s, size=N, random_state=123)))\n",
        "\n",
        "# Function to generate a Random  sample\n",
        "def generate_random_sample(data,n):\n",
        "    return list(np.random.choice(data, size=n, replace=False))\n",
        "\n",
        "# Function to generate bootstrap samples\n",
        "def generate_bootstrap_sample(data):\n",
        "    return np.random.choice(data, size=len(data), replace=True)\n",
        "\n",
        "# Function to calculate mean and standard deviation\n",
        "def calculate_stats(sample):\n",
        "    return (float(np.mean(sample)), float(np.std(sample)))\n",
        "\n",
        "# Parameters\n",
        "N = 10000  # Population size\n",
        "B = 5000 # Bootstraps\n",
        "n = 500\n",
        "##population parameters\n",
        "m = 30\n",
        "s = 7\n",
        "l = 10\n",
        "a = 0\n",
        "b = 50\n",
        "h = 0.01\n",
        "\n",
        "\n",
        "# Generate random population in parallel\n",
        "#population_rdd = population_generation(B,N,m,s,l,a,b,h)\n",
        "#population_rdd = population_generation1(B,N,m,s)\n",
        "population_rdd = population_generation2(B,N,m,s,l)\n",
        "population_rdd.persist()\n",
        "\n",
        "# Generate multiple samples in parallel\n",
        "sample_rdd = population_rdd.map(lambda data: generate_random_sample(data,n))\n",
        "\n",
        "# Generate Bootstraps samples in parallel\n",
        "bootstraps_rdd = sample_rdd.map(lambda data: generate_bootstrap_sample(data))\n",
        "\n",
        "#Calculate Statistics of bootstraps\n",
        "boostrap_stats_rdd = bootstraps_rdd.map(lambda sample: calculate_stats(sample))\n",
        "\n",
        "boostrap_stats_rdd.persist()\n",
        "#Aggregate Statistics\n",
        "aggregate_stats = boostrap_stats_rdd.reduce(lambda x,y: (x[0]+y[0],x[1]+y[1]))\n",
        "\n",
        "bootstrap_mean,bootstrap_stdev = np.round(aggregate_stats[0]/B,2), np.round(aggregate_stats[1]/B,2)\n",
        "new_line = '\\n'\n",
        "\n",
        "print(f'The expected value of boostrapped sample means is:{bootstrap_mean}{new_line}\\\n",
        "The expected value of boostrapped sample standard deviation is: {bootstrap_stdev}')\n",
        "\n",
        "def getParallelBootstrap(data, B):\n",
        "  rdd = sc.parallelize(list(range(1, B+1)))\n",
        "  rdd = rdd.map(lambda x: (x,) + getBootstrapedStats(data))\n",
        "  return rdd\n",
        "\n",
        "def getBootstrapedStats(data):\n",
        "  number_points = len(data)\n",
        "  sum_tally = 0\n",
        "  sum_squared_tally = 0\n",
        "  for inx in range(0,number_points):\n",
        "    draw = data[rd.randint(0, number_points-1)]\n",
        "    sum_tally += draw\n",
        "    sum_squared_tally += draw**2\n",
        "  return (float(sum_tally/number_points), float(((sum_squared_tally/number_points) - (sum_tally/number_points)**2)**0.5))\n",
        "\n",
        "\n",
        "# Generate n random numbers from a normal distribution\n",
        "#random_numbers_population = np.random.normal(m, s, N)\n",
        "\n",
        "#random_sample = generate_random_sample(random_numbers_population,n)\n",
        "\n",
        "#10,000 resamples:\n",
        "#bootstrap_samples = getParallelBootstrap(random_sample, B)\n",
        "\n",
        "# Define schema for DataFrame 1\n",
        "schema1 = StructType([\n",
        "    #StructField(\"Bootstrap\", IntegerType(), True),\n",
        "    StructField(\"Mean\", FloatType(), True),\n",
        "    StructField(\"Standard_deviation\", FloatType(), True)])\n",
        "\n",
        "sample = sample_rdd.first()\n",
        "\n",
        "# Convert RDD to DataFrame using createDataFrame() with defined schema, convert to pandas df\n",
        "df1 = spark.createDataFrame(boostrap_stats_rdd, schema1)\n",
        "df2 = pd.DataFrame(sample,columns=[\"Random_sample\"])\n",
        "\n",
        "PATH = \"/content/drive/MyDrive/Colab Notebooks/\"\n",
        "df1 = df1.toPandas()\n",
        "df1.to_csv(PATH+'tsn_random_bootstrap_stats.csv')\n",
        "\n",
        "df2.to_csv(PATH+'tsn_random_sample_data.csv')\n",
        "# Stop SparkContext\n",
        "#sc.stop()"
      ],
      "metadata": {
        "colab": {
          "base_uri": "https://localhost:8080/"
        },
        "id": "PD9YNjbZh9nm",
        "outputId": "96c700ad-22aa-4439-8ab0-cc647e46f44c"
      },
      "execution_count": null,
      "outputs": [
        {
          "output_type": "stream",
          "name": "stdout",
          "text": [
            "The expected value of boostrapped sample means is:35.57\n",
            "The expected value of boostrapped sample standard deviation is: 4.21\n"
          ]
        }
      ]
    },
    {
      "cell_type": "markdown",
      "source": [
        "# Bootrap statistic distributions"
      ],
      "metadata": {
        "id": "vWxiooxhHAi9"
      }
    },
    {
      "cell_type": "code",
      "source": [
        "fig, axes = plt.subplots(2, 1)\n",
        "\n",
        "for i,col in enumerate(df1.columns):\n",
        "  df1[col].plot(kind = \"hist\",\n",
        "               bins = 16,\n",
        "               title = f\"distribution of bootstrapped sample {col} for B = {B}\",\n",
        "               ax = axes[i] )\n",
        "plt.tight_layout()\n"
      ],
      "metadata": {
        "colab": {
          "base_uri": "https://localhost:8080/",
          "height": 486
        },
        "id": "xZE-FpH8G87T",
        "outputId": "61362ca1-c34b-4644-8819-ae04ac0981b0"
      },
      "execution_count": null,
      "outputs": [
        {
          "output_type": "display_data",
          "data": {
            "text/plain": [
              "<Figure size 640x480 with 2 Axes>"
            ],
            "image/png": "[encoded data removed]"
          },
          "metadata": {}
        }
      ]
    },
    {
      "cell_type": "code",
      "source": [
        "fig, axes = plt.subplots(1, 1)\n",
        "\n",
        "for i,col in enumerate(df2.columns):\n",
        "  df2[col].plot(kind = \"hist\",\n",
        "               bins = 16,\n",
        "               title = f\"distribution of {col} for n = {n}\" )\n",
        "plt.tight_layout()"
      ],
      "metadata": {
        "colab": {
          "base_uri": "https://localhost:8080/",
          "height": 487
        },
        "id": "u8YR5WYlp68k",
        "outputId": "f2d94458-b795-4914-fafe-d007a02cea8a"
      },
      "execution_count": null,
      "outputs": [
        {
          "output_type": "display_data",
          "data": {
            "text/plain": [
              "<Figure size 640x480 with 1 Axes>"
            ],
            "image/png": "[encoded data removed]"
          },
          "metadata": {}
        }
      ]
    },
    {
      "cell_type": "markdown",
      "source": [
        "#Bootstrapped Statistics with Confidence Intervals using SciPy\n",
        "1. Comparing the percentile confidence intervals determined above to CI from SciPy bootstrap method"
      ],
      "metadata": {
        "id": "oS1_9dU5GNMP"
      }
    },
    {
      "cell_type": "code",
      "source": [
        "data = (df2.Random_sample,)  # samples must be in a sequence\n",
        "res = bootstrap(data,\n",
        "          np.mean,\n",
        "          n_resamples=9999,\n",
        "          axis = 0,\n",
        "          confidence_level=0.95,\n",
        "          alternative='two-sided',\n",
        "          method='BCa',\n",
        "          random_state= 123)\n",
        "res.confidence_interval"
      ],
      "metadata": {
        "colab": {
          "base_uri": "https://localhost:8080/"
        },
        "id": "zLDKTRJiGL2I",
        "outputId": "43e81ef3-89c2-4db6-f35c-ee1e7c6cb807"
      },
      "execution_count": null,
      "outputs": [
        {
          "output_type": "execute_result",
          "data": {
            "text/plain": [
              "ConfidenceInterval(low=35.11547730882929, high=35.81292105943323)"
            ]
          },
          "metadata": {},
          "execution_count": 18
        }
      ]
    },
    {
      "cell_type": "code",
      "source": [
        "trimmed_mean_ci(data, limits=(0.1, 0.1), inclusive=(True, True), alpha=0.05, axis=None)"
      ],
      "metadata": {
        "colab": {
          "base_uri": "https://localhost:8080/"
        },
        "id": "0ocq8TGo4mfQ",
        "outputId": "9dcdb916-5504-44a1-ca13-df22f85d0bd8"
      },
      "execution_count": null,
      "outputs": [
        {
          "output_type": "execute_result",
          "data": {
            "text/plain": [
              "array([34.73965145, 35.47600393])"
            ]
          },
          "metadata": {},
          "execution_count": 26
        }
      ]
    },
    {
      "cell_type": "code",
      "source": [],
      "metadata": {
        "id": "rfXlM-QL17t9"
      },
      "execution_count": null,
      "outputs": []
    }
  ]
}